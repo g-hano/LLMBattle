{
 "cells": [
  {
   "cell_type": "code",
   "execution_count": 4,
   "metadata": {},
   "outputs": [
    {
     "name": "stdout",
     "output_type": "stream",
     "text": [
      "Running on local URL:  http://127.0.0.1:7863\n",
      "\n",
      "To create a public link, set `share=True` in `launch()`.\n"
     ]
    },
    {
     "data": {
      "text/html": [
       "<div><iframe src=\"http://127.0.0.1:7863/\" width=\"100%\" height=\"500\" allow=\"autoplay; camera; microphone; clipboard-read; clipboard-write;\" frameborder=\"0\" allowfullscreen></iframe></div>"
      ],
      "text/plain": [
       "<IPython.core.display.HTML object>"
      ]
     },
     "metadata": {},
     "output_type": "display_data"
    },
    {
     "data": {
      "text/plain": []
     },
     "execution_count": 4,
     "metadata": {},
     "output_type": "execute_result"
    },
    {
     "name": "stdout",
     "output_type": "stream",
     "text": [
      "LLAMA2 LLM is ready\n",
      "MISTRAL LLM is ready\n",
      "Reading PDF file\n"
     ]
    },
    {
     "data": {
      "application/vnd.jupyter.widget-view+json": {
       "model_id": "a4c7c6235ba24bcabcba6ac0e0b206d3",
       "version_major": 2,
       "version_minor": 0
      },
      "text/plain": [
       "Parsing nodes:   0%|          | 0/1 [00:00<?, ?it/s]"
      ]
     },
     "metadata": {},
     "output_type": "display_data"
    },
    {
     "data": {
      "application/vnd.jupyter.widget-view+json": {
       "model_id": "69366f3cadd54382a7b4b751a6a944d7",
       "version_major": 2,
       "version_minor": 0
      },
      "text/plain": [
       "Generating embeddings:   0%|          | 0/2 [00:00<?, ?it/s]"
      ]
     },
     "metadata": {},
     "output_type": "display_data"
    },
    {
     "name": "stdout",
     "output_type": "stream",
     "text": [
      "Querying\n"
     ]
    }
   ],
   "source": [
    "import gradio as gr\n",
    "from llama_index.core import VectorStoreIndex, Document\n",
    "from llama_index.core.node_parser import SentenceSplitter\n",
    "from llama_index.core import Settings\n",
    "from llama_index.llms.ollama import Ollama\n",
    "from llama_index.embeddings.ollama import OllamaEmbedding\n",
    "import csv\n",
    "from docx import Document as DocxDocument\n",
    "import fitz\n",
    "import threading\n",
    "from langdetect import detect\n",
    "\n",
    "FIRST = \"LLAMA2\"\n",
    "SECOND = \"MISTRAL\"\n",
    "SYSTEM_PROMPT = \"\"\"You are a helpful assistant that answers \n",
    "                user questions using the documents provided. \n",
    "                Your answer MUST be in {} language.\n",
    "                Your answer MUST be in markdown format without \n",
    "                any prefixes like 'assistant:' \n",
    "                \"\"\"\n",
    "def process_file(file):\n",
    "    file_extension = file.name.split(\".\")[-1].lower()\n",
    "\n",
    "    if file_extension == 'txt':\n",
    "        with open(file.name, 'r', encoding='utf-8') as f:\n",
    "            text = f.read()\n",
    "        print(\"Reading TXT file\")\n",
    "\n",
    "    elif file_extension == 'csv':\n",
    "        with open(file.name, 'r', encoding='utf-8') as f:\n",
    "            reader = csv.reader(f)\n",
    "            text = '\\n'.join(','.join(row) for row in reader)\n",
    "        print(\"Reading CSV file\")\n",
    "    \n",
    "    elif file_extension == 'pdf':\n",
    "        pdf_document = fitz.open(file.name, filetype=file_extension)\n",
    "        text = \"\"\n",
    "        for page_num in range(pdf_document.page_count):\n",
    "            page = pdf_document.load_page(page_num)\n",
    "            text += page.get_text(\"text\")\n",
    "        pdf_document.close()\n",
    "        print(\"Reading PDF file\")\n",
    "\n",
    "    elif file_extension == 'docx':\n",
    "        docx_document = DocxDocument(file.name)\n",
    "        text = \"\"\n",
    "        for paragraph in docx_document.paragraphs:\n",
    "            text += paragraph.text + \"\\n\"\n",
    "        print(\"Reading DOCX file\")\n",
    "\n",
    "    return [Document(text=text)]\n",
    "\n",
    "def handle_file_upload(file, lang):\n",
    "\n",
    "    llm_first = Ollama(model=FIRST.lower(), system_prompt=SYSTEM_PROMPT.format(lang), temperature=0.1, request_timeout=1200.0)\n",
    "    print(f\"{FIRST} LLM is ready\")\n",
    "    llm_second = Ollama(model=SECOND.lower(), system_prompt=SYSTEM_PROMPT.format(lang), temperature=0.1, request_timeout=1200.0)\n",
    "    print(f\"{SECOND} LLM is ready\")\n",
    "\n",
    "    documents = process_file(file)\n",
    "\n",
    "    text_splitter = SentenceSplitter(chunk_size=512, chunk_overlap=10)\n",
    "    Settings.embed_model = OllamaEmbedding(model_name=\"nomic-embed-text:latest\")\n",
    "    Settings.text_splitter = text_splitter\n",
    "    index = VectorStoreIndex.from_documents(\n",
    "        documents, transformations=[text_splitter], embed_model=Settings.embed_model, show_progress=True\n",
    "    )\n",
    "\n",
    "    return index.as_query_engine(llm=llm_first), index.as_query_engine(llm=llm_second)\n",
    "\n",
    "def query_engine(engine, question_input, results, index):\n",
    "    results[index] = engine.query(question_input)\n",
    "\n",
    "def document_qa(file_upload, question_input):\n",
    "    lang = detect(question_input)\n",
    "    first, second = handle_file_upload(file_upload, lang)\n",
    "\n",
    "    print(\"Querying\")\n",
    "\n",
    "    results = [None, None]\n",
    "    thread_first = threading.Thread(target=query_engine, args=(first, question_input, results, 0))\n",
    "    thread_second = threading.Thread(target=query_engine, args=(second, question_input, results, 1))\n",
    "    \n",
    "    # Start the threads\n",
    "    thread_first.start()\n",
    "    thread_second.start()\n",
    "    \n",
    "    # Wait for both threads to complete\n",
    "    thread_first.join()\n",
    "    thread_second.join()\n",
    "    \n",
    "    return results[0], results[1]\n",
    "\n",
    "with gr.Blocks() as demo:\n",
    "    with gr.Row():\n",
    "        file_upload = gr.File(label=\"Upload Document\")\n",
    "        question_input = gr.Textbox(label=\"Enter your question\")\n",
    "    \n",
    "    with gr.Row():\n",
    "        first_output = gr.Textbox(label=f\"{FIRST} Output\", interactive=False, lines=10)\n",
    "        second_output = gr.Textbox(label=f\"{SECOND} Output\", interactive=False, lines=10)\n",
    "    \n",
    "    submit_button = gr.Button(\"Submit\")\n",
    "    \n",
    "    submit_button.click(\n",
    "        document_qa,\n",
    "        inputs=[file_upload, question_input],\n",
    "        outputs=[first_output, second_output]\n",
    "    )\n",
    "\n",
    "demo.launch()"
   ]
  },
  {
   "cell_type": "code",
   "execution_count": null,
   "metadata": {},
   "outputs": [],
   "source": []
  }
 ],
 "metadata": {
  "kernelspec": {
   "display_name": "lindex",
   "language": "python",
   "name": "python3"
  },
  "language_info": {
   "codemirror_mode": {
    "name": "ipython",
    "version": 3
   },
   "file_extension": ".py",
   "mimetype": "text/x-python",
   "name": "python",
   "nbconvert_exporter": "python",
   "pygments_lexer": "ipython3",
   "version": "3.11.3"
  }
 },
 "nbformat": 4,
 "nbformat_minor": 2
}
